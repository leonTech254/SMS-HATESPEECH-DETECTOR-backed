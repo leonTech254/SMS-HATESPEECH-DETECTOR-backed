{
 "cells": [
  {
   "cell_type": "code",
   "execution_count": 7,
   "metadata": {},
   "outputs": [
    {
     "name": "stdout",
     "output_type": "stream",
     "text": [
      "Accuracy: 0.9888268156424581\n"
     ]
    },
    {
     "data": {
      "text/plain": [
       "['spam_classifier_model.joblib']"
      ]
     },
     "execution_count": 7,
     "metadata": {},
     "output_type": "execute_result"
    }
   ],
   "source": [
    "import pandas as pd\n",
    "from sklearn.feature_extraction.text import CountVectorizer\n",
    "from sklearn.model_selection import train_test_split\n",
    "from sklearn.naive_bayes import MultinomialNB\n",
    "from sklearn.metrics import accuracy_score\n",
    "import joblib\n",
    "\n",
    "\n",
    "def process(text):\n",
    "    # Convert to lowercase\n",
    "    text = text.lower()\n",
    "    # Remove punctuation\n",
    "    text = ''.join(char for char in text if char.isalnum() or char.isspace())\n",
    "    # Tokenize text\n",
    "    tokens = text.split()\n",
    "    # Remove stop words\n",
    "    stop_words = set(['a', 'an', 'the', 'in', 'on', 'at', 'to',\n",
    "                     'from', 'by', 'for', 'of', 'was', 'were', 'is', 'am'])\n",
    "    tokens = [token for token in tokens if token not in stop_words]\n",
    "    # Join the tokens back into a string\n",
    "    text = ' '.join(tokens)\n",
    "    return text\n",
    "\n",
    "\n",
    "# Load the data from the CSV file\n",
    "df = pd.read_csv('../dataset/emails.csv')\n",
    "\n",
    "# Preprocess the text data\n",
    "df['text'] = df['text'].apply(process)\n",
    "\n",
    "# Split the data into training and test sets\n",
    "X_train, X_test, y_train, y_test = train_test_split(\n",
    "    df['text'], df['spam'], random_state=0)\n",
    "\n",
    "# Create a CountVectorizer object to transform the text data into a bag of words\n",
    "vectorizer = CountVectorizer()\n",
    "\n",
    "# Fit the vectorizer to the training data and transform the training and test data\n",
    "X_train_vector = vectorizer.fit_transform(X_train)\n",
    "X_test_vector = vectorizer.transform(X_test)\n",
    "\n",
    "# Train a Multinomial Naive Bayes classifier on the training data\n",
    "classifier = MultinomialNB()\n",
    "classifier.fit(X_train_vector, y_train)\n",
    "\n",
    "# Make predictions on the test data and calculate accuracy\n",
    "y_pred = classifier.predict(X_test_vector)\n",
    "accuracy = accuracy_score(y_test, y_pred)\n",
    "print(\"Accuracy:\", accuracy)\n",
    "\n",
    "# Save the trained model to a file\n",
    "joblib.dump(classifier, \"spam_classifier_model.joblib\")\n"
   ]
  },
  {
   "cell_type": "code",
   "execution_count": 11,
   "metadata": {},
   "outputs": [
    {
     "name": "stdout",
     "output_type": "stream",
     "text": [
      "Prediction: 1\n"
     ]
    }
   ],
   "source": [
    "import joblib\n",
    "\n",
    "# Load the saved model from file\n",
    "model = joblib.load(\"spam_classifier_model.joblib\")\n",
    "\n",
    "# Preprocess the new email text using the same preprocessing function and vectorizer used for training\n",
    "new_email = \"Are you sure this it the correct way? Dog!!\"\n",
    "processed_text = process(new_email)\n",
    "new_email_vector = vectorizer.transform([processed_text])\n",
    "\n",
    "# Use the trained model to predict whether the new email is spam or not\n",
    "prediction = model.predict(new_email_vector)[0]\n",
    "print(\"Prediction:\", prediction)\n"
   ]
  }
 ],
 "metadata": {
  "kernelspec": {
   "display_name": ".venv",
   "language": "python",
   "name": "python3"
  },
  "language_info": {
   "codemirror_mode": {
    "name": "ipython",
    "version": 3
   },
   "file_extension": ".py",
   "mimetype": "text/x-python",
   "name": "python",
   "nbconvert_exporter": "python",
   "pygments_lexer": "ipython3",
   "version": "3.10.9"
  },
  "orig_nbformat": 4,
  "vscode": {
   "interpreter": {
    "hash": "9f7bbbbb5cfe695f8dd6de4717bff34385bef6011a20bd1d3c0a46a3b92a9c4c"
   }
  }
 },
 "nbformat": 4,
 "nbformat_minor": 2
}
